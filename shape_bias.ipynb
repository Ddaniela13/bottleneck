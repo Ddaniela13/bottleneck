{
 "cells": [
  {
   "cell_type": "code",
   "execution_count": 1,
   "metadata": {},
   "outputs": [],
   "source": [
    "import torch\n",
    "import torchvision\n",
    "from torchvision import transforms\n",
    "from torch.utils.data import DataLoader\n",
    "import torch.nn.functional as F\n",
    "import numpy as np\n",
    "import torch.nn as nn\n",
    "\n",
    "device = \"cuda:2\" if torch.cuda.is_available() else \"cpu\""
   ]
  },
  {
   "cell_type": "code",
   "execution_count": 2,
   "metadata": {},
   "outputs": [],
   "source": [
    "import sys \n",
    "sys.path.append('..')\n",
    "\n",
    "\n",
    "normalize = transforms.Normalize(mean=[0.485, 0.456, 0.406],\n",
    "                                 std=[0.229, 0.224, 0.225])\n",
    "\n",
    "test_transform = transforms.Compose([\n",
    "    transforms.Resize(256),\n",
    "    transforms.CenterCrop(224),\n",
    "    transforms.ToTensor(),\n",
    "    normalize\n",
    "])\n",
    "\n",
    "testset = torchvision.datasets.ImageFolder('../texture_vs_shape/stimuli/style-transfer-preprocessed-512', transform=test_transform)\n",
    "testloader = DataLoader(testset, batch_size=128, shuffle=False,  pin_memory=True, num_workers=16)"
   ]
  },
  {
   "cell_type": "code",
   "execution_count": 3,
   "metadata": {
    "scrolled": true
   },
   "outputs": [
    {
     "name": "stdout",
     "output_type": "stream",
     "text": [
      "[['airplane', 'bicycle'], ['airplane', 'chair'], ['airplane', 'clock'], ['airplane', 'elephant'], ['airplane', 'airplane'], ['airplane', 'bear'], ['airplane', 'boat'], ['airplane', 'car'], ['airplane', 'cat'], ['airplane', 'dog'], ['airplane', 'elephant'], ['airplane', 'knife'], ['airplane', 'oven'], ['airplane', 'truck'], ['airplane', 'bear'], ['airplane', 'bicycle'], ['airplane', 'bird'], ['airplane', 'bottle'], ['airplane', 'cat'], ['airplane', 'dog'], ['airplane', 'airplane'], ['airplane', 'car'], ['airplane', 'cat'], ['airplane', 'chair'], ['airplane', 'clock'], ['airplane', 'dog'], ['airplane', 'elephant'], ['airplane', 'keyboard'], ['airplane', 'oven'], ['airplane', 'airplane'], ['airplane', 'bear'], ['airplane', 'bicycle'], ['airplane', 'bird'], ['airplane', 'boat'], ['airplane', 'bottle'], ['airplane', 'car'], ['airplane', 'cat'], ['airplane', 'dog'], ['airplane', 'elephant'], ['airplane', 'keyboard'], ['airplane', 'knife'], ['airplane', 'truck'], ['airplane', 'bear'], ['airplane', 'bicycle'], ['airplane', 'bird'], ['airplane', 'boat'], ['airplane', 'bottle'], ['airplane', 'chair'], ['airplane', 'dog'], ['airplane', 'knife'], ['airplane', 'oven'], ['airplane', 'bear'], ['airplane', 'bottle'], ['airplane', 'chair'], ['airplane', 'keyboard'], ['airplane', 'knife'], ['airplane', 'airplane'], ['airplane', 'bird'], ['airplane', 'boat'], ['airplane', 'bottle'], ['airplane', 'car'], ['airplane', 'cat'], ['airplane', 'clock'], ['airplane', 'keyboard'], ['airplane', 'truck'], ['airplane', 'bicycle'], ['airplane', 'bird'], ['airplane', 'chair'], ['airplane', 'clock'], ['airplane', 'elephant'], ['airplane', 'oven'], ['airplane', 'truck'], ['airplane', 'airplane'], ['airplane', 'boat'], ['airplane', 'car'], ['airplane', 'clock'], ['airplane', 'keyboard'], ['airplane', 'knife'], ['airplane', 'oven'], ['airplane', 'truck'], ['bear', 'airplane'], ['bear', 'bear'], ['bear', 'bicycle'], ['bear', 'bird'], ['bear', 'chair'], ['bear', 'clock'], ['bear', 'elephant'], ['bear', 'bear'], ['bear', 'bottle'], ['bear', 'car'], ['bear', 'cat'], ['bear', 'chair'], ['bear', 'clock'], ['bear', 'elephant'], ['bear', 'keyboard'], ['bear', 'knife'], ['bear', 'oven'], ['bear', 'truck'], ['bear', 'airplane'], ['bear', 'bird'], ['bear', 'car'], ['bear', 'cat'], ['bear', 'dog'], ['bear', 'elephant'], ['bear', 'keyboard'], ['bear', 'knife'], ['bear', 'oven'], ['bear', 'airplane'], ['bear', 'bicycle'], ['bear', 'bird'], ['bear', 'car'], ['bear', 'cat'], ['bear', 'chair'], ['bear', 'dog'], ['bear', 'keyboard'], ['bear', 'truck'], ['bear', 'boat'], ['bear', 'car'], ['bear', 'cat'], ['bear', 'clock'], ['bear', 'elephant'], ['bear', 'keyboard'], ['bear', 'knife'], ['bear', 'oven'], ['bear', 'truck'], ['bear', 'airplane'], ['bear', 'bicycle'], ['bear', 'bird'], ['bear', 'boat'], ['bear', 'bottle'], ['bear', 'chair'], ['bear', 'oven'], ['bear', 'bear'], ['bear', 'bird'], ['bear', 'boat'], ['bear', 'bottle'], ['bear', 'car'], ['bear', 'cat'], ['bear', 'chair'], ['bear', 'clock'], ['bear', 'bear'], ['bear', 'bicycle'], ['bear', 'clock'], ['bear', 'dog'], ['bear', 'oven'], ['bear', 'truck'], ['bear', 'airplane'], ['bear', 'bear'], ['bear', 'bicycle'], ['bear', 'boat'], ['bear', 'bottle'], ['bear', 'dog'], ['bear', 'elephant'], ['bear', 'knife'], ['bear', 'truck'], ['bear', 'boat'], ['bear', 'bottle'], ['bear', 'dog'], ['bear', 'keyboard'], ['bear', 'knife'], ['bicycle', 'airplane'], ['bicycle', 'bear'], ['bicycle', 'bicycle'], ['bicycle', 'bird'], ['bicycle', 'boat'], ['bicycle', 'bottle'], ['bicycle', 'chair'], ['bicycle', 'clock'], ['bicycle', 'dog'], ['bicycle', 'elephant'], ['bicycle', 'knife'], ['bicycle', 'oven'], ['bicycle', 'truck'], ['bicycle', 'airplane'], ['bicycle', 'boat'], ['bicycle', 'clock'], ['bicycle', 'dog'], ['bicycle', 'elephant'], ['bicycle', 'bicycle'], ['bicycle', 'bird'], ['bicycle', 'bottle'], ['bicycle', 'car'], ['bicycle', 'dog'], ['bicycle', 'keyboard'], ['bicycle', 'knife'], ['bicycle', 'bird'], ['bicycle', 'elephant'], ['bicycle', 'keyboard'], ['bicycle', 'oven'], ['bicycle', 'truck'], ['bicycle', 'airplane'], ['bicycle', 'bicycle'], ['bicycle', 'boat'], ['bicycle', 'bottle'], ['bicycle', 'car'], ['bicycle', 'cat'], ['bicycle', 'chair'], ['bicycle', 'clock'], ['bicycle', 'keyboard'], ['bicycle', 'knife'], ['bicycle', 'oven'], ['bicycle', 'truck'], ['bicycle', 'bear'], ['bicycle', 'bottle'], ['bicycle', 'car'], ['bicycle', 'cat'], ['bicycle', 'chair'], ['bicycle', 'dog'], ['bicycle', 'elephant'], ['bicycle', 'keyboard'], ['bicycle', 'oven'], ['bicycle', 'airplane'], ['bicycle', 'bicycle'], ['bicycle', 'boat'], ['bicycle', 'car'], ['bicycle', 'cat'], ['bicycle', 'dog'], ['bicycle', 'bear'], ['bicycle', 'bicycle'], ['bicycle', 'cat'], ['bicycle', 'clock'], ['bicycle', 'elephant'], ['bicycle', 'knife'], ['bicycle', 'oven'], ['bicycle', 'truck'], ['bicycle', 'bear'], ['bicycle', 'bird'], ['bicycle', 'boat'], ['bicycle', 'chair'], ['bicycle', 'clock'], ['bicycle', 'truck'], ['bicycle', 'airplane'], ['bicycle', 'bear'], ['bicycle', 'bird'], ['bicycle', 'bottle'], ['bicycle', 'car'], ['bicycle', 'cat'], ['bicycle', 'chair'], ['bicycle', 'keyboard'], ['bicycle', 'knife'], ['bird', 'airplane'], ['bird', 'bear'], ['bird', 'bicycle'], ['bird', 'boat'], ['bird', 'chair'], ['bird', 'clock'], ['bird', 'elephant'], ['bird', 'keyboard'], ['bird', 'knife'], ['bird', 'oven'], ['bird', 'truck'], ['bird', 'bear'], ['bird', 'bicycle'], ['bird', 'bird'], ['bird', 'cat'], ['bird', 'chair'], ['bird', 'clock'], ['bird', 'elephant'], ['bird', 'airplane'], ['bird', 'bird'], ['bird', 'car'], ['bird', 'clock'], ['bird', 'dog'], ['bird', 'knife'], ['bird', 'bear'], ['bird', 'bird'], ['bird', 'boat'], ['bird', 'bottle'], ['bird', 'cat'], ['bird', 'dog'], ['bird', 'knife'], ['bird', 'oven'], ['bird', 'truck'], ['bird', 'airplane'], ['bird', 'bicycle'], ['bird', 'cat'], ['bird', 'clock'], ['bird', 'dog'], ['bird', 'airplane'], ['bird', 'bear'], ['bird', 'bicycle'], ['bird', 'bird'], ['bird', 'car'], ['bird', 'cat'], ['bird', 'chair'], ['bird', 'dog'], ['bird', 'keyboard'], ['bird', 'oven'], ['bird', 'truck'], ['bird', 'airplane'], ['bird', 'boat'], ['bird', 'bottle'], ['bird', 'car'], ['bird', 'elephant'], ['bird', 'oven'], ['bird', 'truck'], ['bird', 'bird'], ['bird', 'boat'], ['bird', 'bottle'], ['bird', 'car'], ['bird', 'cat'], ['bird', 'keyboard'], ['bird', 'knife'], ['bird', 'oven'], ['bird', 'truck'], ['bird', 'boat'], ['bird', 'bottle'], ['bird', 'car'], ['bird', 'chair'], ['bird', 'clock'], ['bird', 'elephant'], ['bird', 'keyboard'], ['bird', 'knife'], ['bird', 'bear'], ['bird', 'bicycle'], ['bird', 'bottle'], ['bird', 'chair'], ['bird', 'dog'], ['bird', 'elephant'], ['bird', 'keyboard'], ['boat', 'bear'], ['boat', 'bicycle'], ['boat', 'bird'], ['boat', 'car'], ['boat', 'chair'], ['boat', 'elephant'], ['boat', 'keyboard'], ['boat', 'oven'], ['boat', 'truck'], ['boat', 'bear'], ['boat', 'boat'], ['boat', 'cat'], ['boat', 'oven'], ['boat', 'truck'], ['boat', 'airplane'], ['boat', 'bear'], ['boat', 'bird'], ['boat', 'bottle'], ['boat', 'keyboard'], ['boat', 'oven'], ['boat', 'airplane'], ['boat', 'bicycle'], ['boat', 'car'], ['boat', 'cat'], ['boat', 'chair'], ['boat', 'clock'], ['boat', 'dog'], ['boat', 'keyboard'], ['boat', 'bicycle'], ['boat', 'bird'], ['boat', 'boat'], ['boat', 'bottle'], ['boat', 'car'], ['boat', 'chair'], ['boat', 'dog'], ['boat', 'elephant'], ['boat', 'knife'], ['boat', 'airplane'], ['boat', 'bicycle'], ['boat', 'boat'], ['boat', 'car'], ['boat', 'clock'], ['boat', 'knife'], ['boat', 'airplane'], ['boat', 'bear'], ['boat', 'bicycle'], ['boat', 'bottle'], ['boat', 'car'], ['boat', 'cat'], ['boat', 'clock'], ['boat', 'dog'], ['boat', 'elephant'], ['boat', 'knife'], ['boat', 'truck'], ['boat', 'boat'], ['boat', 'bottle'], ['boat', 'cat'], ['boat', 'chair'], ['boat', 'clock'], ['boat', 'elephant'], ['boat', 'keyboard'], ['boat', 'oven'], ['boat', 'truck'], ['boat', 'bird'], ['boat', 'bottle'], ['boat', 'dog'], ['boat', 'elephant'], ['boat', 'knife'], ['boat', 'oven'], ['boat', 'truck'], ['boat', 'airplane'], ['boat', 'bear'], ['boat', 'bird'], ['boat', 'boat'], ['boat', 'cat'], ['boat', 'chair'], ['boat', 'clock'], ['boat', 'dog'], ['boat', 'keyboard'], ['boat', 'knife'], ['bottle', 'bear'], ['bottle', 'bird'], ['bottle', 'car'], ['bottle', 'cat'], ['bottle', 'chair'], ['bottle', 'clock'], ['bottle', 'dog'], ['bottle', 'keyboard'], ['bottle', 'bear'], ['bottle', 'boat'], ['bottle', 'car'], ['bottle', 'clock'], ['bottle', 'dog'], ['bottle', 'truck'], ['bottle', 'bottle'], ['bottle', 'car'], ['bottle', 'chair'], ['bottle', 'clock'], ['bottle', 'elephant'], ['bottle', 'knife'], ['bottle', 'airplane'], ['bottle', 'bear'], ['bottle', 'bicycle'], ['bottle', 'bird'], ['bottle', 'boat'], ['bottle', 'bottle'], ['bottle', 'cat'], ['bottle', 'chair'], ['bottle', 'knife'], ['bottle', 'airplane'], ['bottle', 'bicycle'], ['bottle', 'car'], ['bottle', 'dog'], ['bottle', 'oven'], ['bottle', 'truck'], ['bottle', 'airplane'], ['bottle', 'bird'], ['bottle', 'boat'], ['bottle', 'cat'], ['bottle', 'chair'], ['bottle', 'clock'], ['bottle', 'elephant'], ['bottle', 'keyboard'], ['bottle', 'knife'], ['bottle', 'oven'], ['bottle', 'truck'], ['bottle', 'airplane'], ['bottle', 'bear'], ['bottle', 'bicycle'], ['bottle', 'bird'], ['bottle', 'boat'], ['bottle', 'bottle'], ['bottle', 'chair'], ['bottle', 'dog'], ['bottle', 'knife'], ['bottle', 'oven'], ['bottle', 'airplane'], ['bottle', 'bear'], ['bottle', 'boat'], ['bottle', 'cat'], ['bottle', 'clock'], ['bottle', 'elephant'], ['bottle', 'keyboard'], ['bottle', 'oven'], ['bottle', 'truck'], ['bottle', 'bicycle'], ['bottle', 'bird'], ['bottle', 'bottle'], ['bottle', 'dog'], ['bottle', 'elephant'], ['bottle', 'keyboard'], ['bottle', 'knife'], ['bottle', 'bicycle'], ['bottle', 'bottle'], ['bottle', 'car'], ['bottle', 'cat'], ['bottle', 'elephant'], ['bottle', 'keyboard'], ['bottle', 'oven'], ['bottle', 'truck'], ['car', 'airplane'], ['car', 'car'], ['car', 'chair'], ['car', 'clock'], ['car', 'dog'], ['car', 'keyboard'], ['car', 'oven'], ['car', 'bicycle'], ['car', 'bottle'], ['car', 'car'], ['car', 'chair'], ['car', 'dog'], ['car', 'elephant'], ['car', 'keyboard'], ['car', 'bird'], ['car', 'car'], ['car', 'cat'], ['car', 'chair'], ['car', 'knife'], ['car', 'airplane'], ['car', 'bird'], ['car', 'boat'], ['car', 'bottle'], ['car', 'dog'], ['car', 'elephant'], ['car', 'oven'], ['car', 'truck'], ['car', 'bear'], ['car', 'bicycle'], ['car', 'bird'], ['car', 'boat'], ['car', 'bottle'], ['car', 'car'], ['car', 'cat'], ['car', 'clock'], ['car', 'elephant'], ['car', 'oven'], ['car', 'airplane'], ['car', 'bear'], ['car', 'bottle'], ['car', 'cat'], ['car', 'keyboard'], ['car', 'knife'], ['car', 'oven'], ['car', 'truck'], ['car', 'bear'], ['car', 'bicycle'], ['car', 'boat'], ['car', 'bottle'], ['car', 'chair'], ['car', 'elephant'], ['car', 'knife'], ['car', 'truck'], ['car', 'airplane'], ['car', 'bear'], ['car', 'bird'], ['car', 'boat'], ['car', 'car'], ['car', 'clock'], ['car', 'dog'], ['car', 'elephant'], ['car', 'keyboard'], ['car', 'oven'], ['car', 'airplane'], ['car', 'bear'], ['car', 'bicycle'], ['car', 'boat'], ['car', 'cat'], ['car', 'chair'], ['car', 'clock'], ['car', 'dog'], ['car', 'knife'], ['car', 'truck'], ['car', 'bicycle'], ['car', 'bird'], ['car', 'cat'], ['car', 'clock'], ['car', 'keyboard'], ['car', 'knife'], ['car', 'truck'], ['cat', 'airplane'], ['cat', 'bird'], ['cat', 'boat'], ['cat', 'car'], ['cat', 'cat'], ['cat', 'chair'], ['cat', 'dog'], ['cat', 'keyboard'], ['cat', 'oven'], ['cat', 'airplane'], ['cat', 'bear'], ['cat', 'bicycle'], ['cat', 'bird'], ['cat', 'bottle'], ['cat', 'clock'], ['cat', 'elephant'], ['cat', 'keyboard'], ['cat', 'oven'], ['cat', 'boat'], ['cat', 'bottle'], ['cat', 'car'], ['cat', 'cat'], ['cat', 'elephant'], ['cat', 'knife'], ['cat', 'truck'], ['cat', 'bear'], ['cat', 'bicycle'], ['cat', 'cat'], ['cat', 'elephant'], ['cat', 'oven'], ['cat', 'truck'], ['cat', 'airplane'], ['cat', 'bird'], ['cat', 'car'], ['cat', 'cat'], ['cat', 'chair'], ['cat', 'clock'], ['cat', 'dog'], ['cat', 'keyboard'], ['cat', 'knife'], ['cat', 'oven'], ['cat', 'truck'], ['cat', 'airplane'], ['cat', 'bear'], ['cat', 'bicycle'], ['cat', 'boat'], ['cat', 'bottle'], ['cat', 'car'], ['cat', 'chair'], ['cat', 'dog'], ['cat', 'elephant'], ['cat', 'keyboard'], ['cat', 'knife'], ['cat', 'bear'], ['cat', 'chair'], ['cat', 'clock'], ['cat', 'keyboard'], ['cat', 'oven'], ['cat', 'airplane'], ['cat', 'boat'], ['cat', 'bottle'], ['cat', 'clock'], ['cat', 'dog'], ['cat', 'elephant'], ['cat', 'knife'], ['cat', 'truck'], ['cat', 'bear'], ['cat', 'bicycle'], ['cat', 'bird'], ['cat', 'car'], ['cat', 'bicycle'], ['cat', 'bird'], ['cat', 'boat'], ['cat', 'bottle'], ['cat', 'cat'], ['cat', 'chair'], ['cat', 'clock'], ['cat', 'dog'], ['cat', 'knife'], ['cat', 'truck'], ['chair', 'airplane'], ['chair', 'bear'], ['chair', 'cat'], ['chair', 'chair'], ['chair', 'clock'], ['chair', 'dog'], ['chair', 'elephant'], ['chair', 'oven'], ['chair', 'truck'], ['chair', 'airplane'], ['chair', 'bicycle'], ['chair', 'bird'], ['chair', 'bottle'], ['chair', 'car'], ['chair', 'cat'], ['chair', 'clock'], ['chair', 'dog'], ['chair', 'oven'], ['chair', 'bear'], ['chair', 'boat'], ['chair', 'keyboard'], ['chair', 'knife'], ['chair', 'airplane'], ['chair', 'bicycle'], ['chair', 'bottle'], ['chair', 'car'], ['chair', 'dog'], ['chair', 'knife'], ['chair', 'bear'], ['chair', 'cat'], ['chair', 'chair'], ['chair', 'keyboard'], ['chair', 'oven'], ['chair', 'truck'], ['chair', 'bicycle'], ['chair', 'bird'], ['chair', 'boat'], ['chair', 'bottle'], ['chair', 'car'], ['chair', 'cat'], ['chair', 'clock'], ['chair', 'keyboard'], ['chair', 'knife'], ['chair', 'oven'], ['chair', 'truck'], ['chair', 'bird'], ['chair', 'dog'], ['chair', 'elephant'], ['chair', 'truck'], ['chair', 'airplane'], ['chair', 'bird'], ['chair', 'boat'], ['chair', 'bottle'], ['chair', 'car'], ['chair', 'cat'], ['chair', 'chair'], ['chair', 'clock'], ['chair', 'elephant'], ['chair', 'knife'], ['chair', 'truck'], ['chair', 'airplane'], ['chair', 'bear'], ['chair', 'bicycle'], ['chair', 'boat'], ['chair', 'car'], ['chair', 'chair'], ['chair', 'clock'], ['chair', 'elephant'], ['chair', 'keyboard'], ['chair', 'knife'], ['chair', 'oven'], ['chair', 'bear'], ['chair', 'bicycle'], ['chair', 'bird'], ['chair', 'boat'], ['chair', 'bottle'], ['chair', 'chair'], ['chair', 'dog'], ['chair', 'elephant'], ['chair', 'keyboard'], ['clock', 'bear'], ['clock', 'boat'], ['clock', 'car'], ['clock', 'clock'], ['clock', 'dog'], ['clock', 'elephant'], ['clock', 'truck'], ['clock', 'airplane'], ['clock', 'bird'], ['clock', 'boat'], ['clock', 'bottle'], ['clock', 'cat'], ['clock', 'clock'], ['clock', 'dog'], ['clock', 'knife'], ['clock', 'oven'], ['clock', 'truck'], ['clock', 'bear'], ['clock', 'bicycle'], ['clock', 'bottle'], ['clock', 'clock'], ['clock', 'dog'], ['clock', 'elephant'], ['clock', 'knife'], ['clock', 'bear'], ['clock', 'bicycle'], ['clock', 'bird'], ['clock', 'car'], ['clock', 'cat'], ['clock', 'dog'], ['clock', 'elephant'], ['clock', 'keyboard'], ['clock', 'airplane'], ['clock', 'bird'], ['clock', 'boat'], ['clock', 'bottle'], ['clock', 'car'], ['clock', 'chair'], ['clock', 'elephant'], ['clock', 'knife'], ['clock', 'oven'], ['clock', 'airplane'], ['clock', 'bicycle'], ['clock', 'chair'], ['clock', 'clock'], ['clock', 'elephant'], ['clock', 'keyboard'], ['clock', 'oven'], ['clock', 'bicycle'], ['clock', 'bird'], ['clock', 'bottle'], ['clock', 'car'], ['clock', 'chair'], ['clock', 'clock'], ['clock', 'knife'], ['clock', 'oven'], ['clock', 'truck'], ['clock', 'bear'], ['clock', 'bicycle'], ['clock', 'boat'], ['clock', 'bottle'], ['clock', 'car'], ['clock', 'cat'], ['clock', 'dog'], ['clock', 'keyboard'], ['clock', 'truck'], ['clock', 'airplane'], ['clock', 'bear'], ['clock', 'boat'], ['clock', 'cat'], ['clock', 'chair'], ['clock', 'keyboard'], ['clock', 'knife'], ['clock', 'oven'], ['clock', 'truck'], ['clock', 'airplane'], ['clock', 'bird'], ['clock', 'cat'], ['clock', 'chair'], ['clock', 'keyboard'], ['dog', 'airplane'], ['dog', 'bear'], ['dog', 'bird'], ['dog', 'boat'], ['dog', 'car'], ['dog', 'cat'], ['dog', 'chair'], ['dog', 'dog'], ['dog', 'knife'], ['dog', 'airplane'], ['dog', 'bicycle'], ['dog', 'bottle'], ['dog', 'car'], ['dog', 'clock'], ['dog', 'dog'], ['dog', 'elephant'], ['dog', 'keyboard'], ['dog', 'oven'], ['dog', 'truck'], ['dog', 'airplane'], ['dog', 'bicycle'], ['dog', 'bottle'], ['dog', 'cat'], ['dog', 'dog'], ['dog', 'knife'], ['dog', 'bear'], ['dog', 'bird'], ['dog', 'boat'], ['dog', 'clock'], ['dog', 'dog'], ['dog', 'elephant'], ['dog', 'keyboard'], ['dog', 'knife'], ['dog', 'truck'], ['dog', 'airplane'], ['dog', 'bicycle'], ['dog', 'bird'], ['dog', 'bottle'], ['dog', 'cat'], ['dog', 'chair'], ['dog', 'clock'], ['dog', 'elephant'], ['dog', 'keyboard'], ['dog', 'oven'], ['dog', 'truck'], ['dog', 'bear'], ['dog', 'boat'], ['dog', 'car'], ['dog', 'elephant'], ['dog', 'knife'], ['dog', 'oven'], ['dog', 'truck'], ['dog', 'bicycle'], ['dog', 'bird'], ['dog', 'cat'], ['dog', 'clock'], ['dog', 'elephant'], ['dog', 'truck'], ['dog', 'bird'], ['dog', 'car'], ['dog', 'chair'], ['dog', 'keyboard'], ['dog', 'knife'], ['dog', 'oven'], ['dog', 'bear'], ['dog', 'boat'], ['dog', 'bottle'], ['dog', 'chair'], ['dog', 'clock'], ['dog', 'dog'], ['dog', 'keyboard'], ['dog', 'oven'], ['dog', 'airplane'], ['dog', 'bear'], ['dog', 'bicycle'], ['dog', 'boat'], ['dog', 'bottle'], ['dog', 'car'], ['dog', 'cat'], ['dog', 'chair'], ['elephant', 'airplane'], ['elephant', 'bear'], ['elephant', 'boat'], ['elephant', 'bottle'], ['elephant', 'car'], ['elephant', 'chair'], ['elephant', 'dog'], ['elephant', 'keyboard'], ['elephant', 'oven'], ['elephant', 'bear'], ['elephant', 'elephant'], ['elephant', 'keyboard'], ['elephant', 'knife'], ['elephant', 'airplane'], ['elephant', 'bear'], ['elephant', 'bird'], ['elephant', 'boat'], ['elephant', 'bottle'], ['elephant', 'cat'], ['elephant', 'clock'], ['elephant', 'elephant'], ['elephant', 'keyboard'], ['elephant', 'truck'], ['elephant', 'cat'], ['elephant', 'chair'], ['elephant', 'keyboard'], ['elephant', 'knife'], ['elephant', 'oven'], ['elephant', 'truck'], ['elephant', 'bicycle'], ['elephant', 'bird'], ['elephant', 'boat'], ['elephant', 'car'], ['elephant', 'chair'], ['elephant', 'clock'], ['elephant', 'oven'], ['elephant', 'bear'], ['elephant', 'bicycle'], ['elephant', 'bottle'], ['elephant', 'car'], ['elephant', 'chair'], ['elephant', 'elephant'], ['elephant', 'truck'], ['elephant', 'bicycle'], ['elephant', 'bird'], ['elephant', 'bottle'], ['elephant', 'car'], ['elephant', 'cat'], ['elephant', 'dog'], ['elephant', 'knife'], ['elephant', 'oven'], ['elephant', 'truck'], ['elephant', 'airplane'], ['elephant', 'bear'], ['elephant', 'bird'], ['elephant', 'bottle'], ['elephant', 'car'], ['elephant', 'cat'], ['elephant', 'clock'], ['elephant', 'dog'], ['elephant', 'keyboard'], ['elephant', 'knife'], ['elephant', 'airplane'], ['elephant', 'bicycle'], ['elephant', 'bird'], ['elephant', 'boat'], ['elephant', 'cat'], ['elephant', 'clock'], ['elephant', 'dog'], ['elephant', 'elephant'], ['elephant', 'knife'], ['elephant', 'oven'], ['elephant', 'truck'], ['elephant', 'airplane'], ['elephant', 'bicycle'], ['elephant', 'boat'], ['elephant', 'chair'], ['elephant', 'clock'], ['elephant', 'dog'], ['elephant', 'elephant'], ['keyboard', 'airplane'], ['keyboard', 'bear'], ['keyboard', 'bird'], ['keyboard', 'car'], ['keyboard', 'chair'], ['keyboard', 'clock'], ['keyboard', 'dog'], ['keyboard', 'elephant'], ['keyboard', 'airplane'], ['keyboard', 'boat'], ['keyboard', 'car'], ['keyboard', 'keyboard'], ['keyboard', 'oven'], ['keyboard', 'truck'], ['keyboard', 'bicycle'], ['keyboard', 'bottle'], ['keyboard', 'clock'], ['keyboard', 'elephant'], ['keyboard', 'knife'], ['keyboard', 'bicycle'], ['keyboard', 'bird'], ['keyboard', 'boat'], ['keyboard', 'car'], ['keyboard', 'cat'], ['keyboard', 'clock'], ['keyboard', 'elephant'], ['keyboard', 'bird'], ['keyboard', 'bottle'], ['keyboard', 'cat'], ['keyboard', 'clock'], ['keyboard', 'keyboard'], ['keyboard', 'knife'], ['keyboard', 'oven'], ['keyboard', 'truck'], ['keyboard', 'airplane'], ['keyboard', 'bear'], ['keyboard', 'bicycle'], ['keyboard', 'bird'], ['keyboard', 'bottle'], ['keyboard', 'cat'], ['keyboard', 'dog'], ['keyboard', 'keyboard'], ['keyboard', 'knife'], ['keyboard', 'oven'], ['keyboard', 'bear'], ['keyboard', 'bicycle'], ['keyboard', 'boat'], ['keyboard', 'bottle'], ['keyboard', 'car'], ['keyboard', 'chair'], ['keyboard', 'dog'], ['keyboard', 'elephant'], ['keyboard', 'knife'], ['keyboard', 'bear'], ['keyboard', 'boat'], ['keyboard', 'bottle'], ['keyboard', 'car'], ['keyboard', 'chair'], ['keyboard', 'clock'], ['keyboard', 'dog'], ['keyboard', 'knife'], ['keyboard', 'oven'], ['keyboard', 'truck'], ['keyboard', 'airplane'], ['keyboard', 'cat'], ['keyboard', 'chair'], ['keyboard', 'dog'], ['keyboard', 'keyboard'], ['keyboard', 'oven'], ['keyboard', 'truck'], ['keyboard', 'airplane'], ['keyboard', 'bear'], ['keyboard', 'bicycle'], ['keyboard', 'bird'], ['keyboard', 'boat'], ['keyboard', 'cat'], ['keyboard', 'chair'], ['keyboard', 'elephant'], ['keyboard', 'keyboard'], ['keyboard', 'truck'], ['knife', 'airplane'], ['knife', 'bird'], ['knife', 'car'], ['knife', 'chair'], ['knife', 'clock'], ['knife', 'dog'], ['knife', 'elephant'], ['knife', 'keyboard'], ['knife', 'oven'], ['knife', 'truck'], ['knife', 'bear'], ['knife', 'chair'], ['knife', 'dog'], ['knife', 'elephant'], ['knife', 'keyboard'], ['knife', 'knife'], ['knife', 'oven'], ['knife', 'bear'], ['knife', 'bicycle'], ['knife', 'bird'], ['knife', 'bottle'], ['knife', 'car'], ['knife', 'cat'], ['knife', 'dog'], ['knife', 'elephant'], ['knife', 'truck'], ['knife', 'bear'], ['knife', 'cat'], ['knife', 'clock'], ['knife', 'keyboard'], ['knife', 'knife'], ['knife', 'airplane'], ['knife', 'bear'], ['knife', 'boat'], ['knife', 'car'], ['knife', 'cat'], ['knife', 'clock'], ['knife', 'keyboard'], ['knife', 'knife'], ['knife', 'oven'], ['knife', 'bicycle'], ['knife', 'cat'], ['knife', 'clock'], ['knife', 'dog'], ['knife', 'keyboard'], ['knife', 'knife'], ['knife', 'oven'], ['knife', 'truck'], ['knife', 'airplane'], ['knife', 'bicycle'], ['knife', 'bird'], ['knife', 'boat'], ['knife', 'bottle'], ['knife', 'chair'], ['knife', 'clock'], ['knife', 'dog'], ['knife', 'knife'], ['knife', 'oven'], ['knife', 'truck'], ['knife', 'airplane'], ['knife', 'bird'], ['knife', 'boat'], ['knife', 'bottle'], ['knife', 'car'], ['knife', 'chair'], ['knife', 'elephant'], ['knife', 'bicycle'], ['knife', 'boat'], ['knife', 'bottle'], ['knife', 'car'], ['knife', 'cat'], ['knife', 'truck'], ['knife', 'airplane'], ['knife', 'bear'], ['knife', 'bicycle'], ['knife', 'bird'], ['knife', 'boat'], ['knife', 'bottle'], ['knife', 'chair'], ['knife', 'elephant'], ['oven', 'bird'], ['oven', 'boat'], ['oven', 'cat'], ['oven', 'clock'], ['oven', 'dog'], ['oven', 'airplane'], ['oven', 'bear'], ['oven', 'bicycle'], ['oven', 'boat'], ['oven', 'cat'], ['oven', 'oven'], ['oven', 'truck'], ['oven', 'bear'], ['oven', 'bicycle'], ['oven', 'bird'], ['oven', 'boat'], ['oven', 'bottle'], ['oven', 'car'], ['oven', 'chair'], ['oven', 'dog'], ['oven', 'oven'], ['oven', 'truck'], ['oven', 'airplane'], ['oven', 'bear'], ['oven', 'boat'], ['oven', 'bottle'], ['oven', 'car'], ['oven', 'cat'], ['oven', 'clock'], ['oven', 'elephant'], ['oven', 'knife'], ['oven', 'truck'], ['oven', 'bicycle'], ['oven', 'bottle'], ['oven', 'car'], ['oven', 'chair'], ['oven', 'clock'], ['oven', 'dog'], ['oven', 'elephant'], ['oven', 'keyboard'], ['oven', 'knife'], ['oven', 'truck'], ['oven', 'airplane'], ['oven', 'bicycle'], ['oven', 'bird'], ['oven', 'bottle'], ['oven', 'dog'], ['oven', 'elephant'], ['oven', 'keyboard'], ['oven', 'airplane'], ['oven', 'bear'], ['oven', 'bicycle'], ['oven', 'bird'], ['oven', 'chair'], ['oven', 'elephant'], ['oven', 'knife'], ['oven', 'oven'], ['oven', 'truck'], ['oven', 'bottle'], ['oven', 'car'], ['oven', 'cat'], ['oven', 'clock'], ['oven', 'dog'], ['oven', 'elephant'], ['oven', 'keyboard'], ['oven', 'oven'], ['oven', 'cat'], ['oven', 'chair'], ['oven', 'keyboard'], ['oven', 'knife'], ['oven', 'airplane'], ['oven', 'bear'], ['oven', 'bird'], ['oven', 'boat'], ['oven', 'car'], ['oven', 'chair'], ['oven', 'clock'], ['oven', 'keyboard'], ['oven', 'knife'], ['oven', 'oven'], ['truck', 'bear'], ['truck', 'bicycle'], ['truck', 'bird'], ['truck', 'car'], ['truck', 'cat'], ['truck', 'chair'], ['truck', 'clock'], ['truck', 'dog'], ['truck', 'knife'], ['truck', 'airplane'], ['truck', 'bicycle'], ['truck', 'car'], ['truck', 'clock'], ['truck', 'elephant'], ['truck', 'truck'], ['truck', 'airplane'], ['truck', 'bicycle'], ['truck', 'bird'], ['truck', 'boat'], ['truck', 'bottle'], ['truck', 'car'], ['truck', 'chair'], ['truck', 'clock'], ['truck', 'elephant'], ['truck', 'keyboard'], ['truck', 'oven'], ['truck', 'bear'], ['truck', 'bicycle'], ['truck', 'bird'], ['truck', 'car'], ['truck', 'cat'], ['truck', 'chair'], ['truck', 'clock'], ['truck', 'dog'], ['truck', 'keyboard'], ['truck', 'knife'], ['truck', 'oven'], ['truck', 'airplane'], ['truck', 'bear'], ['truck', 'boat'], ['truck', 'bottle'], ['truck', 'knife'], ['truck', 'oven'], ['truck', 'airplane'], ['truck', 'bird'], ['truck', 'car'], ['truck', 'cat'], ['truck', 'dog'], ['truck', 'keyboard'], ['truck', 'knife'], ['truck', 'truck'], ['truck', 'bear'], ['truck', 'bicycle'], ['truck', 'boat'], ['truck', 'bottle'], ['truck', 'cat'], ['truck', 'clock'], ['truck', 'dog'], ['truck', 'knife'], ['truck', 'oven'], ['truck', 'truck'], ['truck', 'bear'], ['truck', 'bird'], ['truck', 'boat'], ['truck', 'chair'], ['truck', 'elephant'], ['truck', 'keyboard'], ['truck', 'oven'], ['truck', 'truck'], ['truck', 'bottle'], ['truck', 'cat'], ['truck', 'dog'], ['truck', 'elephant'], ['truck', 'keyboard'], ['truck', 'airplane'], ['truck', 'boat'], ['truck', 'bottle'], ['truck', 'chair'], ['truck', 'elephant'], ['truck', 'truck']]\n",
      "1280\n"
     ]
    }
   ],
   "source": [
    "import re\n",
    "\n",
    "image_names = [testloader.dataset.imgs[i][0].rsplit('/', 1)[-1] for i in range(len(testloader.dataset.imgs))]\n",
    "\n",
    "image_names1 = [r.rsplit(\".\", 1)[0] for r in image_names]\n",
    "# print(image_names1)\n",
    "\n",
    "image_names2 = [re.sub(r'[0-9]+', '', s) for s in image_names1]\n",
    "# print(image_names2)\n",
    "\n",
    "image_names = [r.rsplit(\"-\", 1) for r in image_names2]\n",
    "\n",
    "print(image_names)\n",
    "print(len(testloader.dataset.imgs))"
   ]
  },
  {
   "cell_type": "code",
   "execution_count": 4,
   "metadata": {
    "scrolled": true
   },
   "outputs": [
    {
     "name": "stdout",
     "output_type": "stream",
     "text": [
      "[4, 20, 29, 56, 72, 81, 87, 132, 140, 147, 162, 178, 191, 212, 218, 253, 259, 265, 281, 296, 330, 350, 359, 374, 393, 414, 425, 451, 467, 473, 481, 489, 495, 512, 537, 564, 581, 587, 594, 634, 643, 670, 695, 705, 716, 723, 732, 740, 764, 773, 807, 814, 823, 829, 869, 890, 900, 921, 949, 959, 971, 990, 1001, 1027, 1038, 1055, 1070, 1078, 1085, 1096, 1130, 1140, 1176, 1185, 1199, 1214, 1250, 1260, 1268, 1279]\n",
      "[['airplane', 'bicycle'], ['airplane', 'chair'], ['airplane', 'clock'], ['airplane', 'elephant'], ['airplane', 'bear'], ['airplane', 'boat'], ['airplane', 'car'], ['airplane', 'cat'], ['airplane', 'dog'], ['airplane', 'elephant'], ['airplane', 'knife'], ['airplane', 'oven'], ['airplane', 'truck'], ['airplane', 'bear'], ['airplane', 'bicycle'], ['airplane', 'bird'], ['airplane', 'bottle'], ['airplane', 'cat'], ['airplane', 'dog'], ['airplane', 'car'], ['airplane', 'cat'], ['airplane', 'chair'], ['airplane', 'clock'], ['airplane', 'dog'], ['airplane', 'elephant'], ['airplane', 'keyboard'], ['airplane', 'oven'], ['airplane', 'bear'], ['airplane', 'bicycle'], ['airplane', 'bird'], ['airplane', 'boat'], ['airplane', 'bottle'], ['airplane', 'car'], ['airplane', 'cat'], ['airplane', 'dog'], ['airplane', 'elephant'], ['airplane', 'keyboard'], ['airplane', 'knife'], ['airplane', 'truck'], ['airplane', 'bear'], ['airplane', 'bicycle'], ['airplane', 'bird'], ['airplane', 'boat'], ['airplane', 'bottle'], ['airplane', 'chair'], ['airplane', 'dog'], ['airplane', 'knife'], ['airplane', 'oven'], ['airplane', 'bear'], ['airplane', 'bottle'], ['airplane', 'chair'], ['airplane', 'keyboard'], ['airplane', 'knife'], ['airplane', 'bird'], ['airplane', 'boat'], ['airplane', 'bottle'], ['airplane', 'car'], ['airplane', 'cat'], ['airplane', 'clock'], ['airplane', 'keyboard'], ['airplane', 'truck'], ['airplane', 'bicycle'], ['airplane', 'bird'], ['airplane', 'chair'], ['airplane', 'clock'], ['airplane', 'elephant'], ['airplane', 'oven'], ['airplane', 'truck'], ['airplane', 'boat'], ['airplane', 'car'], ['airplane', 'clock'], ['airplane', 'keyboard'], ['airplane', 'knife'], ['airplane', 'oven'], ['airplane', 'truck'], ['bear', 'airplane'], ['bear', 'bicycle'], ['bear', 'bird'], ['bear', 'chair'], ['bear', 'clock'], ['bear', 'elephant'], ['bear', 'bottle'], ['bear', 'car'], ['bear', 'cat'], ['bear', 'chair'], ['bear', 'clock'], ['bear', 'elephant'], ['bear', 'keyboard'], ['bear', 'knife'], ['bear', 'oven'], ['bear', 'truck'], ['bear', 'airplane'], ['bear', 'bird'], ['bear', 'car'], ['bear', 'cat'], ['bear', 'dog'], ['bear', 'elephant'], ['bear', 'keyboard'], ['bear', 'knife'], ['bear', 'oven'], ['bear', 'airplane'], ['bear', 'bicycle'], ['bear', 'bird'], ['bear', 'car'], ['bear', 'cat'], ['bear', 'chair'], ['bear', 'dog'], ['bear', 'keyboard'], ['bear', 'truck'], ['bear', 'boat'], ['bear', 'car'], ['bear', 'cat'], ['bear', 'clock'], ['bear', 'elephant'], ['bear', 'keyboard'], ['bear', 'knife'], ['bear', 'oven'], ['bear', 'truck'], ['bear', 'airplane'], ['bear', 'bicycle'], ['bear', 'bird'], ['bear', 'boat'], ['bear', 'bottle'], ['bear', 'chair'], ['bear', 'oven'], ['bear', 'bird'], ['bear', 'boat'], ['bear', 'bottle'], ['bear', 'car'], ['bear', 'cat'], ['bear', 'chair'], ['bear', 'clock'], ['bear', 'bicycle'], ['bear', 'clock'], ['bear', 'dog'], ['bear', 'oven'], ['bear', 'truck'], ['bear', 'airplane'], ['bear', 'bicycle'], ['bear', 'boat'], ['bear', 'bottle'], ['bear', 'dog'], ['bear', 'elephant'], ['bear', 'knife'], ['bear', 'truck'], ['bear', 'boat'], ['bear', 'bottle'], ['bear', 'dog'], ['bear', 'keyboard'], ['bear', 'knife'], ['bicycle', 'airplane'], ['bicycle', 'bear'], ['bicycle', 'bird'], ['bicycle', 'boat'], ['bicycle', 'bottle'], ['bicycle', 'chair'], ['bicycle', 'clock'], ['bicycle', 'dog'], ['bicycle', 'elephant'], ['bicycle', 'knife'], ['bicycle', 'oven'], ['bicycle', 'truck'], ['bicycle', 'airplane'], ['bicycle', 'boat'], ['bicycle', 'clock'], ['bicycle', 'dog'], ['bicycle', 'elephant'], ['bicycle', 'bird'], ['bicycle', 'bottle'], ['bicycle', 'car'], ['bicycle', 'dog'], ['bicycle', 'keyboard'], ['bicycle', 'knife'], ['bicycle', 'bird'], ['bicycle', 'elephant'], ['bicycle', 'keyboard'], ['bicycle', 'oven'], ['bicycle', 'truck'], ['bicycle', 'airplane'], ['bicycle', 'boat'], ['bicycle', 'bottle'], ['bicycle', 'car'], ['bicycle', 'cat'], ['bicycle', 'chair'], ['bicycle', 'clock'], ['bicycle', 'keyboard'], ['bicycle', 'knife'], ['bicycle', 'oven'], ['bicycle', 'truck'], ['bicycle', 'bear'], ['bicycle', 'bottle'], ['bicycle', 'car'], ['bicycle', 'cat'], ['bicycle', 'chair'], ['bicycle', 'dog'], ['bicycle', 'elephant'], ['bicycle', 'keyboard'], ['bicycle', 'oven'], ['bicycle', 'airplane'], ['bicycle', 'boat'], ['bicycle', 'car'], ['bicycle', 'cat'], ['bicycle', 'dog'], ['bicycle', 'bear'], ['bicycle', 'cat'], ['bicycle', 'clock'], ['bicycle', 'elephant'], ['bicycle', 'knife'], ['bicycle', 'oven'], ['bicycle', 'truck'], ['bicycle', 'bear'], ['bicycle', 'bird'], ['bicycle', 'boat'], ['bicycle', 'chair'], ['bicycle', 'clock'], ['bicycle', 'truck'], ['bicycle', 'airplane'], ['bicycle', 'bear'], ['bicycle', 'bird'], ['bicycle', 'bottle'], ['bicycle', 'car'], ['bicycle', 'cat'], ['bicycle', 'chair'], ['bicycle', 'keyboard'], ['bicycle', 'knife'], ['bird', 'airplane'], ['bird', 'bear'], ['bird', 'bicycle'], ['bird', 'boat'], ['bird', 'chair'], ['bird', 'clock'], ['bird', 'elephant'], ['bird', 'keyboard'], ['bird', 'knife'], ['bird', 'oven'], ['bird', 'truck'], ['bird', 'bear'], ['bird', 'bicycle'], ['bird', 'cat'], ['bird', 'chair'], ['bird', 'clock'], ['bird', 'elephant'], ['bird', 'airplane'], ['bird', 'car'], ['bird', 'clock'], ['bird', 'dog'], ['bird', 'knife'], ['bird', 'bear'], ['bird', 'boat'], ['bird', 'bottle'], ['bird', 'cat'], ['bird', 'dog'], ['bird', 'knife'], ['bird', 'oven'], ['bird', 'truck'], ['bird', 'airplane'], ['bird', 'bicycle'], ['bird', 'cat'], ['bird', 'clock'], ['bird', 'dog'], ['bird', 'airplane'], ['bird', 'bear'], ['bird', 'bicycle'], ['bird', 'car'], ['bird', 'cat'], ['bird', 'chair'], ['bird', 'dog'], ['bird', 'keyboard'], ['bird', 'oven'], ['bird', 'truck'], ['bird', 'airplane'], ['bird', 'boat'], ['bird', 'bottle'], ['bird', 'car'], ['bird', 'elephant'], ['bird', 'oven'], ['bird', 'truck'], ['bird', 'boat'], ['bird', 'bottle'], ['bird', 'car'], ['bird', 'cat'], ['bird', 'keyboard'], ['bird', 'knife'], ['bird', 'oven'], ['bird', 'truck'], ['bird', 'boat'], ['bird', 'bottle'], ['bird', 'car'], ['bird', 'chair'], ['bird', 'clock'], ['bird', 'elephant'], ['bird', 'keyboard'], ['bird', 'knife'], ['bird', 'bear'], ['bird', 'bicycle'], ['bird', 'bottle'], ['bird', 'chair'], ['bird', 'dog'], ['bird', 'elephant'], ['bird', 'keyboard'], ['boat', 'bear'], ['boat', 'bicycle'], ['boat', 'bird'], ['boat', 'car'], ['boat', 'chair'], ['boat', 'elephant'], ['boat', 'keyboard'], ['boat', 'oven'], ['boat', 'truck'], ['boat', 'bear'], ['boat', 'cat'], ['boat', 'oven'], ['boat', 'truck'], ['boat', 'airplane'], ['boat', 'bear'], ['boat', 'bird'], ['boat', 'bottle'], ['boat', 'keyboard'], ['boat', 'oven'], ['boat', 'airplane'], ['boat', 'bicycle'], ['boat', 'car'], ['boat', 'cat'], ['boat', 'chair'], ['boat', 'clock'], ['boat', 'dog'], ['boat', 'keyboard'], ['boat', 'bicycle'], ['boat', 'bird'], ['boat', 'bottle'], ['boat', 'car'], ['boat', 'chair'], ['boat', 'dog'], ['boat', 'elephant'], ['boat', 'knife'], ['boat', 'airplane'], ['boat', 'bicycle'], ['boat', 'car'], ['boat', 'clock'], ['boat', 'knife'], ['boat', 'airplane'], ['boat', 'bear'], ['boat', 'bicycle'], ['boat', 'bottle'], ['boat', 'car'], ['boat', 'cat'], ['boat', 'clock'], ['boat', 'dog'], ['boat', 'elephant'], ['boat', 'knife'], ['boat', 'truck'], ['boat', 'bottle'], ['boat', 'cat'], ['boat', 'chair'], ['boat', 'clock'], ['boat', 'elephant'], ['boat', 'keyboard'], ['boat', 'oven'], ['boat', 'truck'], ['boat', 'bird'], ['boat', 'bottle'], ['boat', 'dog'], ['boat', 'elephant'], ['boat', 'knife'], ['boat', 'oven'], ['boat', 'truck'], ['boat', 'airplane'], ['boat', 'bear'], ['boat', 'bird'], ['boat', 'cat'], ['boat', 'chair'], ['boat', 'clock'], ['boat', 'dog'], ['boat', 'keyboard'], ['boat', 'knife'], ['bottle', 'bear'], ['bottle', 'bird'], ['bottle', 'car'], ['bottle', 'cat'], ['bottle', 'chair'], ['bottle', 'clock'], ['bottle', 'dog'], ['bottle', 'keyboard'], ['bottle', 'bear'], ['bottle', 'boat'], ['bottle', 'car'], ['bottle', 'clock'], ['bottle', 'dog'], ['bottle', 'truck'], ['bottle', 'car'], ['bottle', 'chair'], ['bottle', 'clock'], ['bottle', 'elephant'], ['bottle', 'knife'], ['bottle', 'airplane'], ['bottle', 'bear'], ['bottle', 'bicycle'], ['bottle', 'bird'], ['bottle', 'boat'], ['bottle', 'cat'], ['bottle', 'chair'], ['bottle', 'knife'], ['bottle', 'airplane'], ['bottle', 'bicycle'], ['bottle', 'car'], ['bottle', 'dog'], ['bottle', 'oven'], ['bottle', 'truck'], ['bottle', 'airplane'], ['bottle', 'bird'], ['bottle', 'boat'], ['bottle', 'cat'], ['bottle', 'chair'], ['bottle', 'clock'], ['bottle', 'elephant'], ['bottle', 'keyboard'], ['bottle', 'knife'], ['bottle', 'oven'], ['bottle', 'truck'], ['bottle', 'airplane'], ['bottle', 'bear'], ['bottle', 'bicycle'], ['bottle', 'bird'], ['bottle', 'boat'], ['bottle', 'chair'], ['bottle', 'dog'], ['bottle', 'knife'], ['bottle', 'oven'], ['bottle', 'airplane'], ['bottle', 'bear'], ['bottle', 'boat'], ['bottle', 'cat'], ['bottle', 'clock'], ['bottle', 'elephant'], ['bottle', 'keyboard'], ['bottle', 'oven'], ['bottle', 'truck'], ['bottle', 'bicycle'], ['bottle', 'bird'], ['bottle', 'dog'], ['bottle', 'elephant'], ['bottle', 'keyboard'], ['bottle', 'knife'], ['bottle', 'bicycle'], ['bottle', 'car'], ['bottle', 'cat'], ['bottle', 'elephant'], ['bottle', 'keyboard'], ['bottle', 'oven'], ['bottle', 'truck'], ['car', 'airplane'], ['car', 'chair'], ['car', 'clock'], ['car', 'dog'], ['car', 'keyboard'], ['car', 'oven'], ['car', 'bicycle'], ['car', 'bottle'], ['car', 'chair'], ['car', 'dog'], ['car', 'elephant'], ['car', 'keyboard'], ['car', 'bird'], ['car', 'cat'], ['car', 'chair'], ['car', 'knife'], ['car', 'airplane'], ['car', 'bird'], ['car', 'boat'], ['car', 'bottle'], ['car', 'dog'], ['car', 'elephant'], ['car', 'oven'], ['car', 'truck'], ['car', 'bear'], ['car', 'bicycle'], ['car', 'bird'], ['car', 'boat'], ['car', 'bottle'], ['car', 'cat'], ['car', 'clock'], ['car', 'elephant'], ['car', 'oven'], ['car', 'airplane'], ['car', 'bear'], ['car', 'bottle'], ['car', 'cat'], ['car', 'keyboard'], ['car', 'knife'], ['car', 'oven'], ['car', 'truck'], ['car', 'bear'], ['car', 'bicycle'], ['car', 'boat'], ['car', 'bottle'], ['car', 'chair'], ['car', 'elephant'], ['car', 'knife'], ['car', 'truck'], ['car', 'airplane'], ['car', 'bear'], ['car', 'bird'], ['car', 'boat'], ['car', 'clock'], ['car', 'dog'], ['car', 'elephant'], ['car', 'keyboard'], ['car', 'oven'], ['car', 'airplane'], ['car', 'bear'], ['car', 'bicycle'], ['car', 'boat'], ['car', 'cat'], ['car', 'chair'], ['car', 'clock'], ['car', 'dog'], ['car', 'knife'], ['car', 'truck'], ['car', 'bicycle'], ['car', 'bird'], ['car', 'cat'], ['car', 'clock'], ['car', 'keyboard'], ['car', 'knife'], ['car', 'truck'], ['cat', 'airplane'], ['cat', 'bird'], ['cat', 'boat'], ['cat', 'car'], ['cat', 'chair'], ['cat', 'dog'], ['cat', 'keyboard'], ['cat', 'oven'], ['cat', 'airplane'], ['cat', 'bear'], ['cat', 'bicycle'], ['cat', 'bird'], ['cat', 'bottle'], ['cat', 'clock'], ['cat', 'elephant'], ['cat', 'keyboard'], ['cat', 'oven'], ['cat', 'boat'], ['cat', 'bottle'], ['cat', 'car'], ['cat', 'elephant'], ['cat', 'knife'], ['cat', 'truck'], ['cat', 'bear'], ['cat', 'bicycle'], ['cat', 'elephant'], ['cat', 'oven'], ['cat', 'truck'], ['cat', 'airplane'], ['cat', 'bird'], ['cat', 'car'], ['cat', 'chair'], ['cat', 'clock'], ['cat', 'dog'], ['cat', 'keyboard'], ['cat', 'knife'], ['cat', 'oven'], ['cat', 'truck'], ['cat', 'airplane'], ['cat', 'bear'], ['cat', 'bicycle'], ['cat', 'boat'], ['cat', 'bottle'], ['cat', 'car'], ['cat', 'chair'], ['cat', 'dog'], ['cat', 'elephant'], ['cat', 'keyboard'], ['cat', 'knife'], ['cat', 'bear'], ['cat', 'chair'], ['cat', 'clock'], ['cat', 'keyboard'], ['cat', 'oven'], ['cat', 'airplane'], ['cat', 'boat'], ['cat', 'bottle'], ['cat', 'clock'], ['cat', 'dog'], ['cat', 'elephant'], ['cat', 'knife'], ['cat', 'truck'], ['cat', 'bear'], ['cat', 'bicycle'], ['cat', 'bird'], ['cat', 'car'], ['cat', 'bicycle'], ['cat', 'bird'], ['cat', 'boat'], ['cat', 'bottle'], ['cat', 'chair'], ['cat', 'clock'], ['cat', 'dog'], ['cat', 'knife'], ['cat', 'truck'], ['chair', 'airplane'], ['chair', 'bear'], ['chair', 'cat'], ['chair', 'clock'], ['chair', 'dog'], ['chair', 'elephant'], ['chair', 'oven'], ['chair', 'truck'], ['chair', 'airplane'], ['chair', 'bicycle'], ['chair', 'bird'], ['chair', 'bottle'], ['chair', 'car'], ['chair', 'cat'], ['chair', 'clock'], ['chair', 'dog'], ['chair', 'oven'], ['chair', 'bear'], ['chair', 'boat'], ['chair', 'keyboard'], ['chair', 'knife'], ['chair', 'airplane'], ['chair', 'bicycle'], ['chair', 'bottle'], ['chair', 'car'], ['chair', 'dog'], ['chair', 'knife'], ['chair', 'bear'], ['chair', 'cat'], ['chair', 'keyboard'], ['chair', 'oven'], ['chair', 'truck'], ['chair', 'bicycle'], ['chair', 'bird'], ['chair', 'boat'], ['chair', 'bottle'], ['chair', 'car'], ['chair', 'cat'], ['chair', 'clock'], ['chair', 'keyboard'], ['chair', 'knife'], ['chair', 'oven'], ['chair', 'truck'], ['chair', 'bird'], ['chair', 'dog'], ['chair', 'elephant'], ['chair', 'truck'], ['chair', 'airplane'], ['chair', 'bird'], ['chair', 'boat'], ['chair', 'bottle'], ['chair', 'car'], ['chair', 'cat'], ['chair', 'clock'], ['chair', 'elephant'], ['chair', 'knife'], ['chair', 'truck'], ['chair', 'airplane'], ['chair', 'bear'], ['chair', 'bicycle'], ['chair', 'boat'], ['chair', 'car'], ['chair', 'clock'], ['chair', 'elephant'], ['chair', 'keyboard'], ['chair', 'knife'], ['chair', 'oven'], ['chair', 'bear'], ['chair', 'bicycle'], ['chair', 'bird'], ['chair', 'boat'], ['chair', 'bottle'], ['chair', 'dog'], ['chair', 'elephant'], ['chair', 'keyboard'], ['clock', 'bear'], ['clock', 'boat'], ['clock', 'car'], ['clock', 'dog'], ['clock', 'elephant'], ['clock', 'truck'], ['clock', 'airplane'], ['clock', 'bird'], ['clock', 'boat'], ['clock', 'bottle'], ['clock', 'cat'], ['clock', 'dog'], ['clock', 'knife'], ['clock', 'oven'], ['clock', 'truck'], ['clock', 'bear'], ['clock', 'bicycle'], ['clock', 'bottle'], ['clock', 'dog'], ['clock', 'elephant'], ['clock', 'knife'], ['clock', 'bear'], ['clock', 'bicycle'], ['clock', 'bird'], ['clock', 'car'], ['clock', 'cat'], ['clock', 'dog'], ['clock', 'elephant'], ['clock', 'keyboard'], ['clock', 'airplane'], ['clock', 'bird'], ['clock', 'boat'], ['clock', 'bottle'], ['clock', 'car'], ['clock', 'chair'], ['clock', 'elephant'], ['clock', 'knife'], ['clock', 'oven'], ['clock', 'airplane'], ['clock', 'bicycle'], ['clock', 'chair'], ['clock', 'elephant'], ['clock', 'keyboard'], ['clock', 'oven'], ['clock', 'bicycle'], ['clock', 'bird'], ['clock', 'bottle'], ['clock', 'car'], ['clock', 'chair'], ['clock', 'knife'], ['clock', 'oven'], ['clock', 'truck'], ['clock', 'bear'], ['clock', 'bicycle'], ['clock', 'boat'], ['clock', 'bottle'], ['clock', 'car'], ['clock', 'cat'], ['clock', 'dog'], ['clock', 'keyboard'], ['clock', 'truck'], ['clock', 'airplane'], ['clock', 'bear'], ['clock', 'boat'], ['clock', 'cat'], ['clock', 'chair'], ['clock', 'keyboard'], ['clock', 'knife'], ['clock', 'oven'], ['clock', 'truck'], ['clock', 'airplane'], ['clock', 'bird'], ['clock', 'cat'], ['clock', 'chair'], ['clock', 'keyboard'], ['dog', 'airplane'], ['dog', 'bear'], ['dog', 'bird'], ['dog', 'boat'], ['dog', 'car'], ['dog', 'cat'], ['dog', 'chair'], ['dog', 'knife'], ['dog', 'airplane'], ['dog', 'bicycle'], ['dog', 'bottle'], ['dog', 'car'], ['dog', 'clock'], ['dog', 'elephant'], ['dog', 'keyboard'], ['dog', 'oven'], ['dog', 'truck'], ['dog', 'airplane'], ['dog', 'bicycle'], ['dog', 'bottle'], ['dog', 'cat'], ['dog', 'knife'], ['dog', 'bear'], ['dog', 'bird'], ['dog', 'boat'], ['dog', 'clock'], ['dog', 'elephant'], ['dog', 'keyboard'], ['dog', 'knife'], ['dog', 'truck'], ['dog', 'airplane'], ['dog', 'bicycle'], ['dog', 'bird'], ['dog', 'bottle'], ['dog', 'cat'], ['dog', 'chair'], ['dog', 'clock'], ['dog', 'elephant'], ['dog', 'keyboard'], ['dog', 'oven'], ['dog', 'truck'], ['dog', 'bear'], ['dog', 'boat'], ['dog', 'car'], ['dog', 'elephant'], ['dog', 'knife'], ['dog', 'oven'], ['dog', 'truck'], ['dog', 'bicycle'], ['dog', 'bird'], ['dog', 'cat'], ['dog', 'clock'], ['dog', 'elephant'], ['dog', 'truck'], ['dog', 'bird'], ['dog', 'car'], ['dog', 'chair'], ['dog', 'keyboard'], ['dog', 'knife'], ['dog', 'oven'], ['dog', 'bear'], ['dog', 'boat'], ['dog', 'bottle'], ['dog', 'chair'], ['dog', 'clock'], ['dog', 'keyboard'], ['dog', 'oven'], ['dog', 'airplane'], ['dog', 'bear'], ['dog', 'bicycle'], ['dog', 'boat'], ['dog', 'bottle'], ['dog', 'car'], ['dog', 'cat'], ['dog', 'chair'], ['elephant', 'airplane'], ['elephant', 'bear'], ['elephant', 'boat'], ['elephant', 'bottle'], ['elephant', 'car'], ['elephant', 'chair'], ['elephant', 'dog'], ['elephant', 'keyboard'], ['elephant', 'oven'], ['elephant', 'bear'], ['elephant', 'keyboard'], ['elephant', 'knife'], ['elephant', 'airplane'], ['elephant', 'bear'], ['elephant', 'bird'], ['elephant', 'boat'], ['elephant', 'bottle'], ['elephant', 'cat'], ['elephant', 'clock'], ['elephant', 'keyboard'], ['elephant', 'truck'], ['elephant', 'cat'], ['elephant', 'chair'], ['elephant', 'keyboard'], ['elephant', 'knife'], ['elephant', 'oven'], ['elephant', 'truck'], ['elephant', 'bicycle'], ['elephant', 'bird'], ['elephant', 'boat'], ['elephant', 'car'], ['elephant', 'chair'], ['elephant', 'clock'], ['elephant', 'oven'], ['elephant', 'bear'], ['elephant', 'bicycle'], ['elephant', 'bottle'], ['elephant', 'car'], ['elephant', 'chair'], ['elephant', 'truck'], ['elephant', 'bicycle'], ['elephant', 'bird'], ['elephant', 'bottle'], ['elephant', 'car'], ['elephant', 'cat'], ['elephant', 'dog'], ['elephant', 'knife'], ['elephant', 'oven'], ['elephant', 'truck'], ['elephant', 'airplane'], ['elephant', 'bear'], ['elephant', 'bird'], ['elephant', 'bottle'], ['elephant', 'car'], ['elephant', 'cat'], ['elephant', 'clock'], ['elephant', 'dog'], ['elephant', 'keyboard'], ['elephant', 'knife'], ['elephant', 'airplane'], ['elephant', 'bicycle'], ['elephant', 'bird'], ['elephant', 'boat'], ['elephant', 'cat'], ['elephant', 'clock'], ['elephant', 'dog'], ['elephant', 'knife'], ['elephant', 'oven'], ['elephant', 'truck'], ['elephant', 'airplane'], ['elephant', 'bicycle'], ['elephant', 'boat'], ['elephant', 'chair'], ['elephant', 'clock'], ['elephant', 'dog'], ['keyboard', 'airplane'], ['keyboard', 'bear'], ['keyboard', 'bird'], ['keyboard', 'car'], ['keyboard', 'chair'], ['keyboard', 'clock'], ['keyboard', 'dog'], ['keyboard', 'elephant'], ['keyboard', 'airplane'], ['keyboard', 'boat'], ['keyboard', 'car'], ['keyboard', 'oven'], ['keyboard', 'truck'], ['keyboard', 'bicycle'], ['keyboard', 'bottle'], ['keyboard', 'clock'], ['keyboard', 'elephant'], ['keyboard', 'knife'], ['keyboard', 'bicycle'], ['keyboard', 'bird'], ['keyboard', 'boat'], ['keyboard', 'car'], ['keyboard', 'cat'], ['keyboard', 'clock'], ['keyboard', 'elephant'], ['keyboard', 'bird'], ['keyboard', 'bottle'], ['keyboard', 'cat'], ['keyboard', 'clock'], ['keyboard', 'knife'], ['keyboard', 'oven'], ['keyboard', 'truck'], ['keyboard', 'airplane'], ['keyboard', 'bear'], ['keyboard', 'bicycle'], ['keyboard', 'bird'], ['keyboard', 'bottle'], ['keyboard', 'cat'], ['keyboard', 'dog'], ['keyboard', 'knife'], ['keyboard', 'oven'], ['keyboard', 'bear'], ['keyboard', 'bicycle'], ['keyboard', 'boat'], ['keyboard', 'bottle'], ['keyboard', 'car'], ['keyboard', 'chair'], ['keyboard', 'dog'], ['keyboard', 'elephant'], ['keyboard', 'knife'], ['keyboard', 'bear'], ['keyboard', 'boat'], ['keyboard', 'bottle'], ['keyboard', 'car'], ['keyboard', 'chair'], ['keyboard', 'clock'], ['keyboard', 'dog'], ['keyboard', 'knife'], ['keyboard', 'oven'], ['keyboard', 'truck'], ['keyboard', 'airplane'], ['keyboard', 'cat'], ['keyboard', 'chair'], ['keyboard', 'dog'], ['keyboard', 'oven'], ['keyboard', 'truck'], ['keyboard', 'airplane'], ['keyboard', 'bear'], ['keyboard', 'bicycle'], ['keyboard', 'bird'], ['keyboard', 'boat'], ['keyboard', 'cat'], ['keyboard', 'chair'], ['keyboard', 'elephant'], ['keyboard', 'truck'], ['knife', 'airplane'], ['knife', 'bird'], ['knife', 'car'], ['knife', 'chair'], ['knife', 'clock'], ['knife', 'dog'], ['knife', 'elephant'], ['knife', 'keyboard'], ['knife', 'oven'], ['knife', 'truck'], ['knife', 'bear'], ['knife', 'chair'], ['knife', 'dog'], ['knife', 'elephant'], ['knife', 'keyboard'], ['knife', 'oven'], ['knife', 'bear'], ['knife', 'bicycle'], ['knife', 'bird'], ['knife', 'bottle'], ['knife', 'car'], ['knife', 'cat'], ['knife', 'dog'], ['knife', 'elephant'], ['knife', 'truck'], ['knife', 'bear'], ['knife', 'cat'], ['knife', 'clock'], ['knife', 'keyboard'], ['knife', 'airplane'], ['knife', 'bear'], ['knife', 'boat'], ['knife', 'car'], ['knife', 'cat'], ['knife', 'clock'], ['knife', 'keyboard'], ['knife', 'oven'], ['knife', 'bicycle'], ['knife', 'cat'], ['knife', 'clock'], ['knife', 'dog'], ['knife', 'keyboard'], ['knife', 'oven'], ['knife', 'truck'], ['knife', 'airplane'], ['knife', 'bicycle'], ['knife', 'bird'], ['knife', 'boat'], ['knife', 'bottle'], ['knife', 'chair'], ['knife', 'clock'], ['knife', 'dog'], ['knife', 'oven'], ['knife', 'truck'], ['knife', 'airplane'], ['knife', 'bird'], ['knife', 'boat'], ['knife', 'bottle'], ['knife', 'car'], ['knife', 'chair'], ['knife', 'elephant'], ['knife', 'bicycle'], ['knife', 'boat'], ['knife', 'bottle'], ['knife', 'car'], ['knife', 'cat'], ['knife', 'truck'], ['knife', 'airplane'], ['knife', 'bear'], ['knife', 'bicycle'], ['knife', 'bird'], ['knife', 'boat'], ['knife', 'bottle'], ['knife', 'chair'], ['knife', 'elephant'], ['oven', 'bird'], ['oven', 'boat'], ['oven', 'cat'], ['oven', 'clock'], ['oven', 'dog'], ['oven', 'airplane'], ['oven', 'bear'], ['oven', 'bicycle'], ['oven', 'boat'], ['oven', 'cat'], ['oven', 'truck'], ['oven', 'bear'], ['oven', 'bicycle'], ['oven', 'bird'], ['oven', 'boat'], ['oven', 'bottle'], ['oven', 'car'], ['oven', 'chair'], ['oven', 'dog'], ['oven', 'truck'], ['oven', 'airplane'], ['oven', 'bear'], ['oven', 'boat'], ['oven', 'bottle'], ['oven', 'car'], ['oven', 'cat'], ['oven', 'clock'], ['oven', 'elephant'], ['oven', 'knife'], ['oven', 'truck'], ['oven', 'bicycle'], ['oven', 'bottle'], ['oven', 'car'], ['oven', 'chair'], ['oven', 'clock'], ['oven', 'dog'], ['oven', 'elephant'], ['oven', 'keyboard'], ['oven', 'knife'], ['oven', 'truck'], ['oven', 'airplane'], ['oven', 'bicycle'], ['oven', 'bird'], ['oven', 'bottle'], ['oven', 'dog'], ['oven', 'elephant'], ['oven', 'keyboard'], ['oven', 'airplane'], ['oven', 'bear'], ['oven', 'bicycle'], ['oven', 'bird'], ['oven', 'chair'], ['oven', 'elephant'], ['oven', 'knife'], ['oven', 'truck'], ['oven', 'bottle'], ['oven', 'car'], ['oven', 'cat'], ['oven', 'clock'], ['oven', 'dog'], ['oven', 'elephant'], ['oven', 'keyboard'], ['oven', 'cat'], ['oven', 'chair'], ['oven', 'keyboard'], ['oven', 'knife'], ['oven', 'airplane'], ['oven', 'bear'], ['oven', 'bird'], ['oven', 'boat'], ['oven', 'car'], ['oven', 'chair'], ['oven', 'clock'], ['oven', 'keyboard'], ['oven', 'knife'], ['truck', 'bear'], ['truck', 'bicycle'], ['truck', 'bird'], ['truck', 'car'], ['truck', 'cat'], ['truck', 'chair'], ['truck', 'clock'], ['truck', 'dog'], ['truck', 'knife'], ['truck', 'airplane'], ['truck', 'bicycle'], ['truck', 'car'], ['truck', 'clock'], ['truck', 'elephant'], ['truck', 'airplane'], ['truck', 'bicycle'], ['truck', 'bird'], ['truck', 'boat'], ['truck', 'bottle'], ['truck', 'car'], ['truck', 'chair'], ['truck', 'clock'], ['truck', 'elephant'], ['truck', 'keyboard'], ['truck', 'oven'], ['truck', 'bear'], ['truck', 'bicycle'], ['truck', 'bird'], ['truck', 'car'], ['truck', 'cat'], ['truck', 'chair'], ['truck', 'clock'], ['truck', 'dog'], ['truck', 'keyboard'], ['truck', 'knife'], ['truck', 'oven'], ['truck', 'airplane'], ['truck', 'bear'], ['truck', 'boat'], ['truck', 'bottle'], ['truck', 'knife'], ['truck', 'oven'], ['truck', 'airplane'], ['truck', 'bird'], ['truck', 'car'], ['truck', 'cat'], ['truck', 'dog'], ['truck', 'keyboard'], ['truck', 'knife'], ['truck', 'bear'], ['truck', 'bicycle'], ['truck', 'boat'], ['truck', 'bottle'], ['truck', 'cat'], ['truck', 'clock'], ['truck', 'dog'], ['truck', 'knife'], ['truck', 'oven'], ['truck', 'bear'], ['truck', 'bird'], ['truck', 'boat'], ['truck', 'chair'], ['truck', 'elephant'], ['truck', 'keyboard'], ['truck', 'oven'], ['truck', 'bottle'], ['truck', 'cat'], ['truck', 'dog'], ['truck', 'elephant'], ['truck', 'keyboard'], ['truck', 'airplane'], ['truck', 'boat'], ['truck', 'bottle'], ['truck', 'chair'], ['truck', 'elephant']]\n",
      "1200\n"
     ]
    }
   ],
   "source": [
    "image_indices_to_ignore=[]\n",
    "image_indices_to_keep=[]\n",
    "diff_shape_texture=[]\n",
    "\n",
    "for i in range(len(image_names)):\n",
    "    shape_texture=image_names[i]\n",
    "    if shape_texture[0]==shape_texture[1]:\n",
    "        image_indices_to_ignore.append(i)\n",
    "    else:\n",
    "        image_indices_to_keep.append(i)\n",
    "        diff_shape_texture.append(shape_texture)\n",
    "        \n",
    "        \n",
    "print(image_indices_to_ignore)\n",
    "print(diff_shape_texture)\n",
    "print(len(diff_shape_texture))"
   ]
  },
  {
   "cell_type": "code",
   "execution_count": 5,
   "metadata": {},
   "outputs": [],
   "source": [
    "import sys \n",
    "sys.path.append(\"../texture_vs_shape/code\")\n",
    "import probabilities_to_decision\n",
    "\n",
    "def get_shape_bias(net):\n",
    "    correct_shape=0\n",
    "    correct_texture=0\n",
    "    \n",
    "#     c_shape=[]\n",
    "#     c_texture=[]\n",
    "#     softmax=nn.Softmax(0)\n",
    "    decision_from_16_classes = []\n",
    "    \n",
    "    with torch.no_grad():\n",
    "        torch.cuda.empty_cache()\n",
    "        for batch_idx, (data, target) in enumerate(testloader):\n",
    "\n",
    "            data, target = data.to(device), target.to(device)\n",
    "\n",
    "            output = net(data)\n",
    "\n",
    "            # get softmax output\n",
    "            softmax_output = F.softmax(output, 1) # replace with your favourite CNN\n",
    "            #print(softmax_output)\n",
    "\n",
    "            # convert to numpy\n",
    "            softmax_output_numpy = softmax_output.to('cpu').numpy() # replace with conversion\n",
    "\n",
    "            torch.cuda.empty_cache()\n",
    "            \n",
    "            # create mapping\n",
    "            mapping = probabilities_to_decision.ImageNetProbabilitiesTo16ClassesMapping()\n",
    "\n",
    "            for i in range(data.shape[0]):\n",
    "                decision_from_16_classes.append(mapping.probabilities_to_decision(softmax_output_numpy[i]))\n",
    "\n",
    "        #print(\"Decision:\")\n",
    "        #print(len(decision_from_16_classes))\n",
    "        #print(decision_from_16_classes)\n",
    "\n",
    "        #=print(len(image_indices_to_keep))\n",
    "        decision_from_16_classes_TOKEEP = [decision_from_16_classes[i] for i in image_indices_to_keep]\n",
    "        #print(\"#Images with a cue conflict e.g. texture=cat, shape=cat : \", len(decision_from_16_classes_TOKEEP))\n",
    "\n",
    "        for i in range(len(decision_from_16_classes_TOKEEP)):\n",
    "            if decision_from_16_classes_TOKEEP[i]==diff_shape_texture[i][0]:\n",
    "                correct_shape+=1\n",
    "#                 c_shape.append(i)\n",
    "            if decision_from_16_classes_TOKEEP[i]==diff_shape_texture[i][1]:\n",
    "                correct_texture+=1\n",
    "#                 c_texture.append(i)\n",
    "\n",
    "        shape_bias=correct_shape/(correct_shape+correct_texture)\n",
    "    \n",
    "        torch.cuda.empty_cache()\n",
    "        return shape_bias"
   ]
  },
  {
   "cell_type": "code",
   "execution_count": 6,
   "metadata": {
    "scrolled": true
   },
   "outputs": [
    {
     "name": "stdout",
     "output_type": "stream",
     "text": [
      "--------------------------------------------------------------------------------\n",
      "1 0\n",
      "--------------------------------------------------------------------------------\n",
      "Stylized-ImageNet Shape Bias (%): 22.7815\n",
      "\n",
      "--------------------------------------------------------------------------------\n",
      "1 1\n",
      "--------------------------------------------------------------------------------\n",
      "Stylized-ImageNet Shape Bias (%): 21.879\n",
      "\n",
      "--------------------------------------------------------------------------------\n",
      "1 2\n",
      "--------------------------------------------------------------------------------\n"
     ]
    },
    {
     "name": "stderr",
     "output_type": "stream",
     "text": [
      "Downloading: \"http://marc.ecs.soton.ac.uk/pytorch-models/opponency/resnet50/resnet50_1_2.pt\" to /home/adm1g15/.cache/torch/checkpoints/resnet50_1_2.pt\n",
      "100%|██████████| 97.7M/97.7M [00:00<00:00, 105MB/s]\n"
     ]
    },
    {
     "name": "stdout",
     "output_type": "stream",
     "text": [
      "Stylized-ImageNet Shape Bias (%): 25.4032\n",
      "\n",
      "--------------------------------------------------------------------------------\n",
      "2 0\n",
      "--------------------------------------------------------------------------------\n",
      "Stylized-ImageNet Shape Bias (%): 19.6078\n",
      "\n",
      "--------------------------------------------------------------------------------\n",
      "2 1\n",
      "--------------------------------------------------------------------------------\n",
      "Stylized-ImageNet Shape Bias (%): 22.6054\n",
      "\n",
      "--------------------------------------------------------------------------------\n",
      "2 2\n",
      "--------------------------------------------------------------------------------\n"
     ]
    },
    {
     "name": "stderr",
     "output_type": "stream",
     "text": [
      "Downloading: \"http://marc.ecs.soton.ac.uk/pytorch-models/opponency/resnet50/resnet50_2_2.pt\" to /home/adm1g15/.cache/torch/checkpoints/resnet50_2_2.pt\n",
      "100%|██████████| 97.8M/97.8M [00:00<00:00, 103MB/s]\n"
     ]
    },
    {
     "name": "stdout",
     "output_type": "stream",
     "text": [
      "Stylized-ImageNet Shape Bias (%): 21.5403\n",
      "\n",
      "--------------------------------------------------------------------------------\n",
      "4 0\n",
      "--------------------------------------------------------------------------------\n",
      "Stylized-ImageNet Shape Bias (%): 19.8734\n",
      "\n",
      "--------------------------------------------------------------------------------\n",
      "4 1\n",
      "--------------------------------------------------------------------------------\n",
      "Stylized-ImageNet Shape Bias (%): 19.4514\n",
      "\n",
      "--------------------------------------------------------------------------------\n",
      "4 2\n",
      "--------------------------------------------------------------------------------\n"
     ]
    },
    {
     "name": "stderr",
     "output_type": "stream",
     "text": [
      "Downloading: \"http://marc.ecs.soton.ac.uk/pytorch-models/opponency/resnet50/resnet50_4_2.pt\" to /home/adm1g15/.cache/torch/checkpoints/resnet50_4_2.pt\n",
      "100%|██████████| 97.8M/97.8M [00:00<00:00, 103MB/s]\n"
     ]
    },
    {
     "name": "stdout",
     "output_type": "stream",
     "text": [
      "Stylized-ImageNet Shape Bias (%): 22.4287\n",
      "\n",
      "--------------------------------------------------------------------------------\n",
      "8 0\n",
      "--------------------------------------------------------------------------------\n",
      "Stylized-ImageNet Shape Bias (%): 19.9275\n",
      "\n",
      "--------------------------------------------------------------------------------\n",
      "8 1\n",
      "--------------------------------------------------------------------------------\n",
      "Stylized-ImageNet Shape Bias (%): 18.8442\n",
      "\n",
      "--------------------------------------------------------------------------------\n",
      "8 2\n",
      "--------------------------------------------------------------------------------\n"
     ]
    },
    {
     "name": "stderr",
     "output_type": "stream",
     "text": [
      "Downloading: \"http://marc.ecs.soton.ac.uk/pytorch-models/opponency/resnet50/resnet50_8_2.pt\" to /home/adm1g15/.cache/torch/checkpoints/resnet50_8_2.pt\n",
      "100%|██████████| 97.9M/97.9M [00:00<00:00, 103MB/s]\n"
     ]
    },
    {
     "name": "stdout",
     "output_type": "stream",
     "text": [
      "Stylized-ImageNet Shape Bias (%): 21.7503\n",
      "\n",
      "--------------------------------------------------------------------------------\n",
      "16 0\n",
      "--------------------------------------------------------------------------------\n",
      "Stylized-ImageNet Shape Bias (%): 19.25\n",
      "\n",
      "--------------------------------------------------------------------------------\n",
      "16 1\n",
      "--------------------------------------------------------------------------------\n",
      "Stylized-ImageNet Shape Bias (%): 19.1052\n",
      "\n",
      "--------------------------------------------------------------------------------\n",
      "16 2\n",
      "--------------------------------------------------------------------------------\n"
     ]
    },
    {
     "name": "stderr",
     "output_type": "stream",
     "text": [
      "Downloading: \"http://marc.ecs.soton.ac.uk/pytorch-models/opponency/resnet50/resnet50_16_2.pt\" to /home/adm1g15/.cache/torch/checkpoints/resnet50_16_2.pt\n",
      "100%|██████████| 98.0M/98.0M [00:00<00:00, 105MB/s]\n"
     ]
    },
    {
     "name": "stdout",
     "output_type": "stream",
     "text": [
      "Stylized-ImageNet Shape Bias (%): 17.4545\n",
      "\n",
      "--------------------------------------------------------------------------------\n",
      "32 0\n",
      "--------------------------------------------------------------------------------\n",
      "Stylized-ImageNet Shape Bias (%): 19.7982\n",
      "\n",
      "--------------------------------------------------------------------------------\n",
      "32 1\n",
      "--------------------------------------------------------------------------------\n",
      "Stylized-ImageNet Shape Bias (%): 20.4398\n",
      "\n",
      "--------------------------------------------------------------------------------\n",
      "32 2\n",
      "--------------------------------------------------------------------------------\n"
     ]
    },
    {
     "name": "stderr",
     "output_type": "stream",
     "text": [
      "Downloading: \"http://marc.ecs.soton.ac.uk/pytorch-models/opponency/resnet50/resnet50_32_2.pt\" to /home/adm1g15/.cache/torch/checkpoints/resnet50_32_2.pt\n",
      "100%|██████████| 98.3M/98.3M [00:01<00:00, 103MB/s] \n"
     ]
    },
    {
     "name": "stdout",
     "output_type": "stream",
     "text": [
      "Stylized-ImageNet Shape Bias (%): 18.3867\n",
      "\n"
     ]
    }
   ],
   "source": [
    "n_bns = [1, 2, 4, 8, 16, 32]\n",
    "reps = [0, 1, 2]\n",
    "\n",
    "results={'Bottleneck Size':[], 'Run':[], 'Shape Bias':[]}\n",
    "\n",
    "for n_bn in n_bns:\n",
    "    for rep in reps:\n",
    "            print(\"-\"*80)\n",
    "            print(n_bn, rep)\n",
    "            print(\"-\"*80)\n",
    "            model = torch.hub.load('ecs-vlc/bottleneck:master', 'imagenet_resnet50', n_bn=n_bn, rep=rep, verbose=False)\n",
    "            model.eval()\n",
    "            model.to(device)\n",
    "\n",
    "            shape_bias = get_shape_bias(model)\n",
    "\n",
    "            print('Stylized-ImageNet Shape Bias (%):', round(100*shape_bias, 4))\n",
    "            print()\n",
    "            results['Bottleneck Size'].append(n_bn)\n",
    "            results['Run'].append(rep)\n",
    "            results['Shape Bias'].append(shape_bias)"
   ]
  },
  {
   "cell_type": "code",
   "execution_count": 8,
   "metadata": {},
   "outputs": [
    {
     "data": {
      "text/plain": [
       "Text(0.5, 1.0, 'Stylized-ImageNet Shape Bias')"
      ]
     },
     "execution_count": 8,
     "metadata": {},
     "output_type": "execute_result"
    },
    {
     "data": {
      "image/png": "[encoded data removed]",
      "text/plain": [
       "<Figure size 432x288 with 1 Axes>"
      ]
     },
     "metadata": {
      "needs_background": "light"
     },
     "output_type": "display_data"
    }
   ],
   "source": [
    "import seaborn as sns\n",
    "import pandas as pd\n",
    "data = pd.DataFrame.from_dict(results)\n",
    "# print(data)\n",
    "sns.barplot(x=\"Bottleneck Size\", y=\"Shape Bias\", data=data).set_title(\"Stylized-ImageNet Shape Bias\")"
   ]
  },
  {
   "cell_type": "code",
   "execution_count": 9,
   "metadata": {},
   "outputs": [
    {
     "name": "stdout",
     "output_type": "stream",
     "text": [
      "ResNet50 Shape Bias (%): 22.2084\n",
      "\n"
     ]
    }
   ],
   "source": [
    "import torchvision.models as models\n",
    "resnet50 = models.resnet50(pretrained=True)\n",
    "\n",
    "resnet50.eval()\n",
    "resnet50.to(device)\n",
    "\n",
    "shape_bias = get_shape_bias(resnet50)\n",
    "\n",
    "print('ResNet50 Shape Bias (%):', round(100*shape_bias, 4))\n",
    "print()"
   ]
  },
  {
   "cell_type": "code",
   "execution_count": 11,
   "metadata": {},
   "outputs": [],
   "source": [
    "import json\n",
    "\n",
    "with open('shape_bias.json','w') as f:\n",
    "  json.dump(results, f)"
   ]
  }
 ],
 "metadata": {
  "kernelspec": {
   "display_name": "Python 3",
   "language": "python",
   "name": "python3"
  },
  "language_info": {
   "codemirror_mode": {
    "name": "ipython",
    "version": 3
   },
   "file_extension": ".py",
   "mimetype": "text/x-python",
   "name": "python",
   "nbconvert_exporter": "python",
   "pygments_lexer": "ipython3",
   "version": "3.7.3"
  }
 },
 "nbformat": 4,
 "nbformat_minor": 2
}
